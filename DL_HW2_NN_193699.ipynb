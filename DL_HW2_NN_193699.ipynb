{
  "nbformat": 4,
  "nbformat_minor": 0,
  "metadata": {
    "colab": {
      "name": "DL_HW2",
      "provenance": [],
      "collapsed_sections": []
    },
    "kernelspec": {
      "name": "python3",
      "display_name": "Python 3"
    },
    "accelerator": "GPU"
  },
  "cells": [
    {
      "cell_type": "code",
      "metadata": {
        "id": "QEd5Jj3fmb1P",
        "colab_type": "code",
        "colab": {}
      },
      "source": [
        "%tensorflow_version 2.x\n",
        "%load_ext tensorboard"
      ],
      "execution_count": 0,
      "outputs": []
    },
    {
      "cell_type": "code",
      "metadata": {
        "id": "t0Q23rpLjw4N",
        "colab_type": "code",
        "outputId": "27ebdbf5-6e85-459e-e51a-cce704672e70",
        "colab": {
          "base_uri": "https://localhost:8080/",
          "height": 129
        }
      },
      "source": [
        "from google.colab import drive\n",
        "drive.mount('/content/drive')"
      ],
      "execution_count": 76,
      "outputs": [
        {
          "output_type": "stream",
          "text": [
            "Go to this URL in a browser: https://accounts.google.com/o/oauth2/auth?client_id=947318989803-6bn6qk8qdgf4n4g3pfee6491hc0brc4i.apps.googleusercontent.com&redirect_uri=urn%3aietf%3awg%3aoauth%3a2.0%3aoob&response_type=code&scope=email%20https%3a%2f%2fwww.googleapis.com%2fauth%2fdocs.test%20https%3a%2f%2fwww.googleapis.com%2fauth%2fdrive%20https%3a%2f%2fwww.googleapis.com%2fauth%2fdrive.photos.readonly%20https%3a%2f%2fwww.googleapis.com%2fauth%2fpeopleapi.readonly\n",
            "\n",
            "Enter your authorization code:\n",
            "··········\n",
            "Mounted at /content/drive\n"
          ],
          "name": "stdout"
        }
      ]
    },
    {
      "cell_type": "code",
      "metadata": {
        "id": "UTyqwsy1mrAf",
        "colab_type": "code",
        "outputId": "62521806-1816-426f-8f4d-97d95e7434d6",
        "colab": {
          "base_uri": "https://localhost:8080/",
          "height": 35
        }
      },
      "source": [
        "import os\n",
        "import pandas as pd\n",
        "import numpy as np\n",
        "from datetime import datetime\n",
        "import matplotlib.pyplot as plt\n",
        "import tensorflow as tf\n",
        "from tensorflow.keras.datasets import fashion_mnist\n",
        "from tensorflow.keras.models import Model\n",
        "from tensorflow.keras.layers import Input, Dense, Flatten, BatchNormalization\n",
        "\n",
        "from sklearn.metrics import confusion_matrix,classification_report, accuracy_score\n",
        "from sklearn import metrics\n",
        "tf.__version__"
      ],
      "execution_count": 2,
      "outputs": [
        {
          "output_type": "execute_result",
          "data": {
            "text/plain": [
              "'2.2.0'"
            ]
          },
          "metadata": {
            "tags": []
          },
          "execution_count": 2
        }
      ]
    },
    {
      "cell_type": "code",
      "metadata": {
        "id": "ED1n0wFgm5cw",
        "colab_type": "code",
        "outputId": "79266f0e-37e8-432f-ab74-8692c4f78db6",
        "colab": {
          "base_uri": "https://localhost:8080/",
          "height": 109
        }
      },
      "source": [
        "#Obtenemos el set de datos de entrenamiento y test del fashion_mnist\n",
        "(X_train, y_train), (X_test, y_test) = fashion_mnist.load_data()\n",
        "print(\"Shape of x_train: {}\".format(X_train.shape))\n",
        "print(\"Shape of y_train: {}\".format(y_train.shape))\n",
        "print()\n",
        "print(\"Shape of x_test: {}\".format(X_test.shape))\n",
        "print(\"Shape of y_test: {}\".format(y_test.shape))"
      ],
      "execution_count": 62,
      "outputs": [
        {
          "output_type": "stream",
          "text": [
            "Shape of x_train: (60000, 28, 28)\n",
            "Shape of y_train: (60000,)\n",
            "\n",
            "Shape of x_test: (10000, 28, 28)\n",
            "Shape of y_test: (10000,)\n"
          ],
          "name": "stdout"
        }
      ]
    },
    {
      "cell_type": "code",
      "metadata": {
        "id": "-ynXFyLz_nvO",
        "colab_type": "code",
        "colab": {}
      },
      "source": [
        "#dividimos entre 250 los registros para normalizarlos\n",
        "X_train = X_train /255.0\n",
        "X_test = X_test /255.0"
      ],
      "execution_count": 0,
      "outputs": []
    },
    {
      "cell_type": "code",
      "metadata": {
        "id": "mRD6I_IVrfx0",
        "colab_type": "code",
        "colab": {}
      },
      "source": [
        "#asignamos los nombres de las clases\n",
        "class_names = [\"T-shirt/top\", \"Trouser\", \"Pullover\", \"Dress\", \"Coat\",\"Sandal\", \"Shirt\", \"Sneaker\", \"Bag\", \"Ankle boot\"]"
      ],
      "execution_count": 0,
      "outputs": []
    },
    {
      "cell_type": "code",
      "metadata": {
        "id": "8bhUPsiJroOV",
        "colab_type": "code",
        "outputId": "44f1b202-7507-46af-db17-d44b2632d474",
        "colab": {
          "base_uri": "https://localhost:8080/",
          "height": 35
        }
      },
      "source": [
        "#ejemplo de los nombres de las categorias\n",
        "class_names[y_train[0]]"
      ],
      "execution_count": 6,
      "outputs": [
        {
          "output_type": "execute_result",
          "data": {
            "text/plain": [
              "'Ankle boot'"
            ]
          },
          "metadata": {
            "tags": []
          },
          "execution_count": 6
        }
      ]
    },
    {
      "cell_type": "code",
      "metadata": {
        "id": "iUbT9r6M-8-V",
        "colab_type": "code",
        "colab": {}
      },
      "source": [
        "Xin = Input(shape=(28, 28))\n",
        "X = Flatten()(Xin)\n",
        "X = Dense(300, activation=\"relu\")(X)\n",
        "X = Dense(100, activation=\"relu\")(X)\n",
        "X = Dense(10, activation=\"softmax\")(X)\n",
        "\n",
        "model = Model(inputs=Xin, outputs=X)"
      ],
      "execution_count": 0,
      "outputs": []
    },
    {
      "cell_type": "code",
      "metadata": {
        "id": "mHfSYSdLn2oY",
        "colab_type": "code",
        "outputId": "125a1488-345a-4034-e6c7-617200990886",
        "colab": {
          "base_uri": "https://localhost:8080/",
          "height": 323
        }
      },
      "source": [
        "# muestra el detalle de las capas\n",
        "model.summary()"
      ],
      "execution_count": 0,
      "outputs": [
        {
          "output_type": "stream",
          "text": [
            "Model: \"model\"\n",
            "_________________________________________________________________\n",
            "Layer (type)                 Output Shape              Param #   \n",
            "=================================================================\n",
            "input_1 (InputLayer)         [(None, 28, 28)]          0         \n",
            "_________________________________________________________________\n",
            "flatten (Flatten)            (None, 784)               0         \n",
            "_________________________________________________________________\n",
            "dense (Dense)                (None, 300)               235500    \n",
            "_________________________________________________________________\n",
            "dense_1 (Dense)              (None, 100)               30100     \n",
            "_________________________________________________________________\n",
            "dense_2 (Dense)              (None, 10)                1010      \n",
            "=================================================================\n",
            "Total params: 266,610\n",
            "Trainable params: 266,610\n",
            "Non-trainable params: 0\n",
            "_________________________________________________________________\n"
          ],
          "name": "stdout"
        }
      ]
    },
    {
      "cell_type": "code",
      "metadata": {
        "id": "5owm5ujfAKzn",
        "colab_type": "code",
        "colab": {}
      },
      "source": [
        "model.compile(optimizer=\"sgd\", # equiv \"sgd\"\n",
        "              loss=\"sparse_categorical_crossentropy\",\n",
        "              metrics=[\"accuracy\"])"
      ],
      "execution_count": 0,
      "outputs": []
    },
    {
      "cell_type": "code",
      "metadata": {
        "id": "deG3yqVrAA0J",
        "colab_type": "code",
        "outputId": "aff3510b-91ed-4a0d-a368-ddf6b436cb97",
        "colab": {
          "base_uri": "https://localhost:8080/",
          "height": 1000
        }
      },
      "source": [
        "model.fit(x=X_train, y=y_train, epochs=30, validation_data=(X_test, y_test))"
      ],
      "execution_count": 0,
      "outputs": [
        {
          "output_type": "stream",
          "text": [
            "Epoch 1/30\n",
            "1875/1875 [==============================] - 4s 2ms/step - loss: 0.6968 - accuracy: 0.7684 - val_loss: 0.5462 - val_accuracy: 0.8048\n",
            "Epoch 2/30\n",
            "1875/1875 [==============================] - 4s 2ms/step - loss: 0.4783 - accuracy: 0.8332 - val_loss: 0.5197 - val_accuracy: 0.8084\n",
            "Epoch 3/30\n",
            "1875/1875 [==============================] - 4s 2ms/step - loss: 0.4341 - accuracy: 0.8492 - val_loss: 0.4426 - val_accuracy: 0.8424\n",
            "Epoch 4/30\n",
            "1875/1875 [==============================] - 4s 2ms/step - loss: 0.4070 - accuracy: 0.8563 - val_loss: 0.4199 - val_accuracy: 0.8508\n",
            "Epoch 5/30\n",
            "1875/1875 [==============================] - 4s 2ms/step - loss: 0.3870 - accuracy: 0.8646 - val_loss: 0.4100 - val_accuracy: 0.8540\n",
            "Epoch 6/30\n",
            "1875/1875 [==============================] - 4s 2ms/step - loss: 0.3719 - accuracy: 0.8682 - val_loss: 0.3958 - val_accuracy: 0.8610\n",
            "Epoch 7/30\n",
            "1875/1875 [==============================] - 4s 2ms/step - loss: 0.3595 - accuracy: 0.8737 - val_loss: 0.3934 - val_accuracy: 0.8584\n",
            "Epoch 8/30\n",
            "1875/1875 [==============================] - 4s 2ms/step - loss: 0.3477 - accuracy: 0.8761 - val_loss: 0.3839 - val_accuracy: 0.8634\n",
            "Epoch 9/30\n",
            "1875/1875 [==============================] - 4s 2ms/step - loss: 0.3385 - accuracy: 0.8790 - val_loss: 0.3743 - val_accuracy: 0.8643\n",
            "Epoch 10/30\n",
            "1875/1875 [==============================] - 4s 2ms/step - loss: 0.3280 - accuracy: 0.8828 - val_loss: 0.3771 - val_accuracy: 0.8641\n",
            "Epoch 11/30\n",
            "1875/1875 [==============================] - 4s 2ms/step - loss: 0.3206 - accuracy: 0.8846 - val_loss: 0.3654 - val_accuracy: 0.8705\n",
            "Epoch 12/30\n",
            "1875/1875 [==============================] - 4s 2ms/step - loss: 0.3132 - accuracy: 0.8886 - val_loss: 0.3654 - val_accuracy: 0.8666\n",
            "Epoch 13/30\n",
            "1875/1875 [==============================] - 4s 2ms/step - loss: 0.3061 - accuracy: 0.8900 - val_loss: 0.3565 - val_accuracy: 0.8713\n",
            "Epoch 14/30\n",
            "1875/1875 [==============================] - 4s 2ms/step - loss: 0.2984 - accuracy: 0.8925 - val_loss: 0.3500 - val_accuracy: 0.8755\n",
            "Epoch 15/30\n",
            "1875/1875 [==============================] - 4s 2ms/step - loss: 0.2928 - accuracy: 0.8942 - val_loss: 0.3564 - val_accuracy: 0.8711\n",
            "Epoch 16/30\n",
            "1875/1875 [==============================] - 4s 2ms/step - loss: 0.2871 - accuracy: 0.8966 - val_loss: 0.3465 - val_accuracy: 0.8737\n",
            "Epoch 17/30\n",
            "1875/1875 [==============================] - 4s 2ms/step - loss: 0.2804 - accuracy: 0.8992 - val_loss: 0.3599 - val_accuracy: 0.8739\n",
            "Epoch 18/30\n",
            "1875/1875 [==============================] - 4s 2ms/step - loss: 0.2763 - accuracy: 0.9008 - val_loss: 0.3463 - val_accuracy: 0.8764\n",
            "Epoch 19/30\n",
            "1875/1875 [==============================] - 4s 2ms/step - loss: 0.2708 - accuracy: 0.9022 - val_loss: 0.3452 - val_accuracy: 0.8758\n",
            "Epoch 20/30\n",
            "1875/1875 [==============================] - 4s 2ms/step - loss: 0.2653 - accuracy: 0.9036 - val_loss: 0.3425 - val_accuracy: 0.8781\n",
            "Epoch 21/30\n",
            "1875/1875 [==============================] - 4s 2ms/step - loss: 0.2616 - accuracy: 0.9060 - val_loss: 0.3407 - val_accuracy: 0.8783\n",
            "Epoch 22/30\n",
            "1875/1875 [==============================] - 4s 2ms/step - loss: 0.2568 - accuracy: 0.9074 - val_loss: 0.3625 - val_accuracy: 0.8670\n",
            "Epoch 23/30\n",
            "1875/1875 [==============================] - 4s 2ms/step - loss: 0.2524 - accuracy: 0.9089 - val_loss: 0.3364 - val_accuracy: 0.8817\n",
            "Epoch 24/30\n",
            "1875/1875 [==============================] - 4s 2ms/step - loss: 0.2476 - accuracy: 0.9113 - val_loss: 0.3339 - val_accuracy: 0.8787\n",
            "Epoch 25/30\n",
            "1875/1875 [==============================] - 4s 2ms/step - loss: 0.2439 - accuracy: 0.9127 - val_loss: 0.3321 - val_accuracy: 0.8788\n",
            "Epoch 26/30\n",
            "1875/1875 [==============================] - 4s 2ms/step - loss: 0.2400 - accuracy: 0.9131 - val_loss: 0.3384 - val_accuracy: 0.8795\n",
            "Epoch 27/30\n",
            "1875/1875 [==============================] - 4s 2ms/step - loss: 0.2357 - accuracy: 0.9152 - val_loss: 0.3426 - val_accuracy: 0.8780\n",
            "Epoch 28/30\n",
            "1875/1875 [==============================] - 4s 2ms/step - loss: 0.2319 - accuracy: 0.9164 - val_loss: 0.3361 - val_accuracy: 0.8808\n",
            "Epoch 29/30\n",
            "1875/1875 [==============================] - 4s 2ms/step - loss: 0.2275 - accuracy: 0.9182 - val_loss: 0.3337 - val_accuracy: 0.8776\n",
            "Epoch 30/30\n",
            "1875/1875 [==============================] - 4s 2ms/step - loss: 0.2255 - accuracy: 0.9188 - val_loss: 0.3329 - val_accuracy: 0.8821\n"
          ],
          "name": "stdout"
        },
        {
          "output_type": "execute_result",
          "data": {
            "text/plain": [
              "<tensorflow.python.keras.callbacks.History at 0x7efc901cacc0>"
            ]
          },
          "metadata": {
            "tags": []
          },
          "execution_count": 10
        }
      ]
    },
    {
      "cell_type": "code",
      "metadata": {
        "id": "w2tjdb9QzH3V",
        "colab_type": "code",
        "outputId": "952de573-2962-4208-9fd5-38dc81e805fc",
        "colab": {
          "base_uri": "https://localhost:8080/",
          "height": 68
        }
      },
      "source": [
        "#Evalua el modelo\n",
        "test_loss, test_accuracy = model.evaluate(X_test, y_test)\n",
        "print(\"TEST_LOSS: \", test_loss)\n",
        "print(\"TEST_ACCURACY: \", test_accuracy)"
      ],
      "execution_count": 0,
      "outputs": [
        {
          "output_type": "stream",
          "text": [
            "219/219 [==============================] - 0s 2ms/step - loss: 0.3617 - accuracy: 0.8873\n",
            "TEST_LOSS:  0.3617424964904785\n",
            "TEST_ACCURACY:  0.8872857093811035\n"
          ],
          "name": "stdout"
        }
      ]
    },
    {
      "cell_type": "code",
      "metadata": {
        "id": "OLZ1h9bmsjRU",
        "colab_type": "code",
        "outputId": "24d33ac8-cdd9-4cba-905b-49434d2d9095",
        "colab": {
          "base_uri": "https://localhost:8080/",
          "height": 34
        }
      },
      "source": [
        "hist = model.history.history\n",
        "hist.keys()"
      ],
      "execution_count": 0,
      "outputs": [
        {
          "output_type": "execute_result",
          "data": {
            "text/plain": [
              "dict_keys(['loss', 'accuracy', 'val_loss', 'val_accuracy'])"
            ]
          },
          "metadata": {
            "tags": []
          },
          "execution_count": 11
        }
      ]
    },
    {
      "cell_type": "code",
      "metadata": {
        "id": "R91BeJ7YxlDp",
        "colab_type": "code",
        "outputId": "75c89f98-bd15-45cb-e646-fcbc906a9024",
        "colab": {
          "base_uri": "https://localhost:8080/",
          "height": 324
        }
      },
      "source": [
        "pd.DataFrame(hist).plot(figsize=(8, 5))\n",
        "plt.grid(True)\n",
        "plt.gca().set_ylim(0, 1) # set the vertical range to [0-1]\n",
        "plt.show()"
      ],
      "execution_count": 0,
      "outputs": [
        {
          "output_type": "display_data",
          "data": {
            "image/png": "[encoded data removed]",
            "text/plain": [
              "<Figure size 576x360 with 1 Axes>"
            ]
          },
          "metadata": {
            "tags": [],
            "needs_background": "light"
          }
        }
      ]
    },
    {
      "cell_type": "code",
      "metadata": {
        "id": "nGuX7oLos8jQ",
        "colab_type": "code",
        "outputId": "d7da17b7-ced4-4431-c39e-453078e63833",
        "colab": {
          "base_uri": "https://localhost:8080/",
          "height": 282
        }
      },
      "source": [
        "fig, ax = plt.subplots(1, 2, figsize=(14, 4))\n",
        "ax[0].plot(hist[\"loss\"], label=\"train\")\n",
        "ax[0].plot(hist[\"val_loss\"], label=\"cv\")\n",
        "ax[0].legend(fontsize=13)\n",
        "\n",
        "ax[1].plot(hist[\"accuracy\"], label=\"train\")\n",
        "ax[1].plot(hist[\"val_accuracy\"], label=\"cv\")\n",
        "ax[1].legend(fontsize=13)"
      ],
      "execution_count": 0,
      "outputs": [
        {
          "output_type": "execute_result",
          "data": {
            "text/plain": [
              "<matplotlib.legend.Legend at 0x7efc39af1630>"
            ]
          },
          "metadata": {
            "tags": []
          },
          "execution_count": 13
        },
        {
          "output_type": "display_data",
          "data": {
            "image/png": "[encoded data removed]",
            "text/plain": [
              "<Figure size 1008x288 with 2 Axes>"
            ]
          },
          "metadata": {
            "tags": [],
            "needs_background": "light"
          }
        }
      ]
    },
    {
      "cell_type": "code",
      "metadata": {
        "id": "gHpuCHkc0ADr",
        "colab_type": "code",
        "outputId": "e2a34a21-dcad-499b-928a-51e5f97de680",
        "colab": {
          "base_uri": "https://localhost:8080/",
          "height": 34
        }
      },
      "source": [
        "#iniciamos con las predicciones\n",
        "np.array(class_names) [model.predict(X_test[[6]]).argmax()]"
      ],
      "execution_count": 0,
      "outputs": [
        {
          "output_type": "execute_result",
          "data": {
            "text/plain": [
              "'Coat'"
            ]
          },
          "metadata": {
            "tags": []
          },
          "execution_count": 14
        }
      ]
    },
    {
      "cell_type": "code",
      "metadata": {
        "id": "Te3-ejtTvaIe",
        "colab_type": "code",
        "outputId": "99815382-8d3b-4536-cce1-9e9b3ba3c566",
        "colab": {
          "base_uri": "https://localhost:8080/",
          "height": 282
        }
      },
      "source": [
        "plt.imshow(X_test[10], cmap=\"bone_r\")"
      ],
      "execution_count": 0,
      "outputs": [
        {
          "output_type": "execute_result",
          "data": {
            "text/plain": [
              "<matplotlib.image.AxesImage at 0x7efc2e439eb8>"
            ]
          },
          "metadata": {
            "tags": []
          },
          "execution_count": 86
        },
        {
          "output_type": "display_data",
          "data": {
            "image/png": "[encoded data removed]",
            "text/plain": [
              "<Figure size 432x288 with 1 Axes>"
            ]
          },
          "metadata": {
            "tags": [],
            "needs_background": "light"
          }
        }
      ]
    },
    {
      "cell_type": "code",
      "metadata": {
        "id": "kBLjZyHjwgXp",
        "colab_type": "code",
        "colab": {}
      },
      "source": [
        "predicted_classes = model.predict(X_test)"
      ],
      "execution_count": 0,
      "outputs": []
    },
    {
      "cell_type": "code",
      "metadata": {
        "id": "caZrgv_xWvLt",
        "colab_type": "code",
        "colab": {}
      },
      "source": [
        "predict_label = np.zeros(10000)\n",
        "predict_label.shape"
      ],
      "execution_count": 0,
      "outputs": []
    },
    {
      "cell_type": "code",
      "metadata": {
        "id": "PsuD5J-3aizm",
        "colab_type": "code",
        "colab": {}
      },
      "source": [
        "for val in range(predicted_classes.shape[0]):\n",
        "    predict_label[val]= predicted_classes[val].argmax()"
      ],
      "execution_count": 0,
      "outputs": []
    },
    {
      "cell_type": "code",
      "metadata": {
        "id": "UZI-uq4uIYCg",
        "colab_type": "code",
        "outputId": "7c1ecd02-d20d-40b3-af16-6892258e6a51",
        "colab": {
          "base_uri": "https://localhost:8080/",
          "height": 187
        }
      },
      "source": [
        "confusion_matrix(y_test,predict_label)"
      ],
      "execution_count": 0,
      "outputs": [
        {
          "output_type": "execute_result",
          "data": {
            "text/plain": [
              "array([[922,   6,  13,   6,   8,   1,  34,   0,  10,   0],\n",
              "       [  2, 985,   0,   5,   4,   0,   2,   0,   2,   0],\n",
              "       [ 30,   5, 703,   5, 193,   0,  59,   0,   5,   0],\n",
              "       [ 67,  48,  21, 759,  80,   0,  17,   0,   8,   0],\n",
              "       [  3,   3,  37,   9, 909,   0,  35,   0,   4,   0],\n",
              "       [  1,   0,   0,   0,   0, 949,   0,  10,   9,  31],\n",
              "       [239,   6,  65,  11, 124,   0, 542,   0,  13,   0],\n",
              "       [  0,   0,   0,   0,   0,  21,   0, 856,   8, 115],\n",
              "       [ 10,   1,   2,   1,   8,   2,   2,   2, 970,   2],\n",
              "       [  1,   0,   0,   0,   0,   4,   0,  12,   0, 983]])"
            ]
          },
          "metadata": {
            "tags": []
          },
          "execution_count": 79
        }
      ]
    },
    {
      "cell_type": "code",
      "metadata": {
        "id": "Bn7jjBYJHqLT",
        "colab_type": "code",
        "colab": {}
      },
      "source": [
        "#Defining function for confusion matrix plot\n",
        "def plot_confusion_matrix(y_true, y_pred, classes,\n",
        "                          normalize=False,\n",
        "                          title=None,\n",
        "                          cmap=plt.cm.Blues):\n",
        "    \"\"\"\n",
        "    This function prints and plots the confusion matrix.\n",
        "    Normalization can be applied by setting `normalize=True`.\n",
        "    \"\"\"\n",
        "    if not title:\n",
        "        if normalize:\n",
        "            title = 'Normalized confusion matrix'\n",
        "        else:\n",
        "            title = 'Confusion matrix, without normalization'\n",
        "\n",
        "    # Compute confusion matrix\n",
        "    cm = confusion_matrix(y_true, y_pred)\n",
        "    if normalize:\n",
        "        cm = cm.astype('float') / cm.sum(axis=1)[:, np.newaxis]\n",
        "        print(\"Normalized confusion matrix\")\n",
        "    else:\n",
        "        print('Confusion matrix, without normalization')\n",
        "#     print(cm)\n",
        "\n",
        "    fig, ax = plt.subplots(figsize=(10,10))\n",
        "    im = ax.imshow(cm, interpolation='nearest', cmap=cmap)\n",
        "    ax.figure.colorbar(im, ax=ax)\n",
        "    # We want to show all ticks...\n",
        "    ax.set(xticks=np.arange(cm.shape[1]),\n",
        "           yticks=np.arange(cm.shape[0]),\n",
        "           # ... and label them with the respective list entries\n",
        "           xticklabels=classes, yticklabels=classes,\n",
        "           title=title,\n",
        "           ylabel='True label',\n",
        "           xlabel='Predicted label')\n",
        "\n",
        "    # Rotate the tick labels and set their alignment.\n",
        "    plt.setp(ax.get_xticklabels(), rotation=45, ha=\"right\",\n",
        "             rotation_mode=\"anchor\")\n",
        "    # Loop over data dimensions and create text annotations.\n",
        "    fmt = '.2f' if normalize else 'd'\n",
        "    thresh = cm.max() / 2.\n",
        "    for i in range(cm.shape[0]):\n",
        "        for j in range(cm.shape[1]):\n",
        "            ax.text(j, i, format(cm[i, j], fmt),\n",
        "                    ha=\"center\", va=\"center\",\n",
        "                    color=\"white\" if cm[i, j] > thresh else \"black\")\n",
        "    fig.tight_layout()\n",
        "    return ax"
      ],
      "execution_count": 0,
      "outputs": []
    },
    {
      "cell_type": "code",
      "metadata": {
        "id": "7mHEvFu_cjDy",
        "colab_type": "code",
        "outputId": "aefad88c-3481-49a0-c0b5-2867659b89f3",
        "colab": {
          "base_uri": "https://localhost:8080/",
          "height": 769
        }
      },
      "source": [
        "plt.figure(figsize = (20,20))\n",
        "plot_confusion_matrix(y_test, predict_label, classes=class_names, normalize=True,title='Normalized Confusion matrix')\n",
        "plt.axis('on')"
      ],
      "execution_count": 0,
      "outputs": [
        {
          "output_type": "stream",
          "text": [
            "Normalized confusion matrix\n"
          ],
          "name": "stdout"
        },
        {
          "output_type": "execute_result",
          "data": {
            "text/plain": [
              "(-0.5, 9.5, 9.5, -0.5)"
            ]
          },
          "metadata": {
            "tags": []
          },
          "execution_count": 85
        },
        {
          "output_type": "display_data",
          "data": {
            "text/plain": [
              "<Figure size 1440x1440 with 0 Axes>"
            ]
          },
          "metadata": {
            "tags": []
          }
        },
        {
          "output_type": "display_data",
          "data": {
            "image/png": "[encoded data removed]",
            "text/plain": [
              "<Figure size 720x720 with 2 Axes>"
            ]
          },
          "metadata": {
            "tags": [],
            "needs_background": "light"
          }
        }
      ]
    },
    {
      "cell_type": "code",
      "metadata": {
        "id": "CIu_7Iq8mFdd",
        "colab_type": "code",
        "outputId": "0441fd53-11a3-4289-c4de-a5be82bef56e",
        "colab": {
          "base_uri": "https://localhost:8080/",
          "height": 374
        }
      },
      "source": [
        "print(\"Classification Report\\n\",classification_report(y_test, predict_label))\n",
        "print(\"\\n\")\n",
        "print(\"Accuracy : \",accuracy_score(y_test, predict_label)*100)"
      ],
      "execution_count": 0,
      "outputs": [
        {
          "output_type": "stream",
          "text": [
            "Classification Report\n",
            "               precision    recall  f1-score   support\n",
            "\n",
            "           0       0.72      0.92      0.81      1000\n",
            "           1       0.93      0.98      0.96      1000\n",
            "           2       0.84      0.70      0.76      1000\n",
            "           3       0.95      0.76      0.85      1000\n",
            "           4       0.69      0.91      0.78      1000\n",
            "           5       0.97      0.95      0.96      1000\n",
            "           6       0.78      0.54      0.64      1000\n",
            "           7       0.97      0.86      0.91      1000\n",
            "           8       0.94      0.97      0.96      1000\n",
            "           9       0.87      0.98      0.92      1000\n",
            "\n",
            "    accuracy                           0.86     10000\n",
            "   macro avg       0.87      0.86      0.86     10000\n",
            "weighted avg       0.87      0.86      0.86     10000\n",
            "\n",
            "\n",
            "\n",
            "Accuracy :  85.78\n"
          ],
          "name": "stdout"
        }
      ]
    },
    {
      "cell_type": "markdown",
      "metadata": {
        "id": "NsA3ekPC6UkE",
        "colab_type": "text"
      },
      "source": [
        "## Tarea:\n",
        "\n",
        "1. Mejorar el modelo respecto a `X_test`. Pueden modificar la arquitectura como ustedes quieran\n",
        "2. Validar accuracy\n",
        "3. Crear matriz de confusión"
      ]
    },
    {
      "cell_type": "code",
      "metadata": {
        "id": "eihkgePQrOjL",
        "colab_type": "code",
        "colab": {}
      },
      "source": [
        "X_cv, X_test = X_test[7000:], X_test[:7000]\n",
        "y_cv, y_test = y_test[7000:], y_test[:7000]"
      ],
      "execution_count": 0,
      "outputs": []
    },
    {
      "cell_type": "code",
      "metadata": {
        "id": "uZpPrn9vyiy7",
        "colab_type": "code",
        "colab": {}
      },
      "source": [
        "#Definimos la funcion para generar las NN\n",
        "def my_nn(activation=\"relu\", optimizer=\"sgd\", layers=(300, 100)):\n",
        "  Xin = Input(shape=(28, 28))\n",
        "  X = Flatten()(Xin)\n",
        "  for layer in layers:\n",
        "    X = Dense(layer, activation=activation)(X)\n",
        "  X = Dense(10, activation=\"softmax\")(X)\n",
        "\n",
        "  model = Model(inputs=Xin, outputs=X)\n",
        "\n",
        "  model.compile(optimizer=optimizer,\n",
        "              loss=\"sparse_categorical_crossentropy\",\n",
        "              metrics=[\"accuracy\"])\n",
        "  \n",
        "  return model"
      ],
      "execution_count": 0,
      "outputs": []
    },
    {
      "cell_type": "code",
      "metadata": {
        "id": "juZ14_1KxlUg",
        "colab_type": "code",
        "outputId": "db5c1aed-626c-4bd5-8d10-afeced18bd77",
        "colab": {
          "base_uri": "https://localhost:8080/",
          "height": 839
        }
      },
      "source": [
        "%tensorboard --logdir logs"
      ],
      "execution_count": 9,
      "outputs": [
        {
          "output_type": "display_data",
          "data": {
            "text/plain": [
              "Reusing TensorBoard on port 6006 (pid 688), started 0:12:45 ago. (Use '!kill 688' to kill it.)"
            ]
          },
          "metadata": {
            "tags": []
          }
        },
        {
          "output_type": "display_data",
          "data": {
            "application/javascript": [
              "\n",
              "        (async () => {\n",
              "            const url = await google.colab.kernel.proxyPort(6006, {\"cache\": true});\n",
              "            const iframe = document.createElement('iframe');\n",
              "            iframe.src = url;\n",
              "            iframe.setAttribute('width', '100%');\n",
              "            iframe.setAttribute('height', '800');\n",
              "            iframe.setAttribute('frameborder', 0);\n",
              "            document.body.appendChild(iframe);\n",
              "        })();\n",
              "    "
            ],
            "text/plain": [
              "<IPython.core.display.Javascript object>"
            ]
          },
          "metadata": {
            "tags": []
          }
        }
      ]
    },
    {
      "cell_type": "code",
      "metadata": {
        "id": "tWBpAthFx5Au",
        "colab_type": "code",
        "colab": {}
      },
      "source": [
        "logdir = os.path.join(\"logs\", datetime.now().strftime(\"%Y%m%d-%H%M%S\"))\n",
        "logdir = os.path.join(\"logs\", \"run_1\")\n",
        "\n",
        "tensorflow_callback = tf.keras.callbacks.TensorBoard(logdir, histogram_freq=1)\n",
        "stopping_callback = tf.keras.callbacks.EarlyStopping(patience=20)"
      ],
      "execution_count": 0,
      "outputs": []
    },
    {
      "cell_type": "code",
      "metadata": {
        "id": "hzx_Q16nzmAX",
        "colab_type": "code",
        "outputId": "60dca4d1-4b6c-4cd3-ab24-36c0b09effbe",
        "colab": {
          "base_uri": "https://localhost:8080/",
          "height": 1000
        }
      },
      "source": [
        "tf.keras.backend.clear_session()\n",
        "model = my_nn(layers=(400,300,200,200,50),optimizer=\"nadam\")\n",
        "model.fit(x=X_train , y=y_train,\n",
        "          epochs=300,\n",
        "          #batch_size=1,\n",
        "          validation_data=(X_cv , y_cv),\n",
        "          callbacks=[tensorflow_callback, stopping_callback])"
      ],
      "execution_count": 66,
      "outputs": [
        {
          "output_type": "stream",
          "text": [
            "Epoch 1/300\n",
            "1875/1875 [==============================] - 9s 5ms/step - loss: 0.4892 - accuracy: 0.8235 - val_loss: 0.3899 - val_accuracy: 0.8550\n",
            "Epoch 2/300\n",
            "1875/1875 [==============================] - 10s 5ms/step - loss: 0.3623 - accuracy: 0.8680 - val_loss: 0.3558 - val_accuracy: 0.8703\n",
            "Epoch 3/300\n",
            "1875/1875 [==============================] - 9s 5ms/step - loss: 0.3245 - accuracy: 0.8809 - val_loss: 0.3409 - val_accuracy: 0.8763\n",
            "Epoch 4/300\n",
            "1875/1875 [==============================] - 9s 5ms/step - loss: 0.3040 - accuracy: 0.8888 - val_loss: 0.3171 - val_accuracy: 0.8850\n",
            "Epoch 5/300\n",
            "1875/1875 [==============================] - 9s 5ms/step - loss: 0.2872 - accuracy: 0.8943 - val_loss: 0.3161 - val_accuracy: 0.8863\n",
            "Epoch 6/300\n",
            "1875/1875 [==============================] - 9s 5ms/step - loss: 0.2726 - accuracy: 0.8986 - val_loss: 0.3148 - val_accuracy: 0.8900\n",
            "Epoch 7/300\n",
            "1875/1875 [==============================] - 9s 5ms/step - loss: 0.2621 - accuracy: 0.9029 - val_loss: 0.3189 - val_accuracy: 0.8870\n",
            "Epoch 8/300\n",
            "1875/1875 [==============================] - 9s 5ms/step - loss: 0.2521 - accuracy: 0.9069 - val_loss: 0.3056 - val_accuracy: 0.8900\n",
            "Epoch 9/300\n",
            "1875/1875 [==============================] - 9s 5ms/step - loss: 0.2426 - accuracy: 0.9101 - val_loss: 0.3097 - val_accuracy: 0.8907\n",
            "Epoch 10/300\n",
            "1875/1875 [==============================] - 9s 5ms/step - loss: 0.2355 - accuracy: 0.9121 - val_loss: 0.3136 - val_accuracy: 0.8937\n",
            "Epoch 11/300\n",
            "1875/1875 [==============================] - 9s 5ms/step - loss: 0.2281 - accuracy: 0.9145 - val_loss: 0.3006 - val_accuracy: 0.8893\n",
            "Epoch 12/300\n",
            "1875/1875 [==============================] - 9s 5ms/step - loss: 0.2204 - accuracy: 0.9181 - val_loss: 0.2968 - val_accuracy: 0.8953\n",
            "Epoch 13/300\n",
            "1875/1875 [==============================] - 9s 5ms/step - loss: 0.2137 - accuracy: 0.9199 - val_loss: 0.2790 - val_accuracy: 0.9043\n",
            "Epoch 14/300\n",
            "1875/1875 [==============================] - 9s 5ms/step - loss: 0.2061 - accuracy: 0.9222 - val_loss: 0.2940 - val_accuracy: 0.9063\n",
            "Epoch 15/300\n",
            "1875/1875 [==============================] - 9s 5ms/step - loss: 0.2023 - accuracy: 0.9241 - val_loss: 0.3194 - val_accuracy: 0.8943\n",
            "Epoch 16/300\n",
            "1875/1875 [==============================] - 9s 5ms/step - loss: 0.1971 - accuracy: 0.9260 - val_loss: 0.3117 - val_accuracy: 0.8930\n",
            "Epoch 17/300\n",
            "1875/1875 [==============================] - 9s 5ms/step - loss: 0.1902 - accuracy: 0.9270 - val_loss: 0.2905 - val_accuracy: 0.9013\n",
            "Epoch 18/300\n",
            "1875/1875 [==============================] - 9s 5ms/step - loss: 0.1825 - accuracy: 0.9317 - val_loss: 0.3105 - val_accuracy: 0.9057\n",
            "Epoch 19/300\n",
            "1875/1875 [==============================] - 9s 5ms/step - loss: 0.1813 - accuracy: 0.9319 - val_loss: 0.3483 - val_accuracy: 0.8927\n",
            "Epoch 20/300\n",
            "1875/1875 [==============================] - 9s 5ms/step - loss: 0.1747 - accuracy: 0.9340 - val_loss: 0.3273 - val_accuracy: 0.9000\n",
            "Epoch 21/300\n",
            "1875/1875 [==============================] - 9s 5ms/step - loss: 0.1733 - accuracy: 0.9344 - val_loss: 0.3494 - val_accuracy: 0.9020\n",
            "Epoch 22/300\n",
            "1875/1875 [==============================] - 9s 5ms/step - loss: 0.1677 - accuracy: 0.9356 - val_loss: 0.3410 - val_accuracy: 0.9070\n",
            "Epoch 23/300\n",
            "1875/1875 [==============================] - 9s 5ms/step - loss: 0.1614 - accuracy: 0.9388 - val_loss: 0.3580 - val_accuracy: 0.9070\n",
            "Epoch 24/300\n",
            "1875/1875 [==============================] - 9s 5ms/step - loss: 0.1595 - accuracy: 0.9402 - val_loss: 0.3078 - val_accuracy: 0.9037\n",
            "Epoch 25/300\n",
            "1875/1875 [==============================] - 9s 5ms/step - loss: 0.1569 - accuracy: 0.9407 - val_loss: 0.3469 - val_accuracy: 0.8913\n",
            "Epoch 26/300\n",
            "1875/1875 [==============================] - 9s 5ms/step - loss: 0.1548 - accuracy: 0.9407 - val_loss: 0.3710 - val_accuracy: 0.9050\n",
            "Epoch 27/300\n",
            "1875/1875 [==============================] - 9s 5ms/step - loss: 0.1530 - accuracy: 0.9423 - val_loss: 0.3487 - val_accuracy: 0.9040\n",
            "Epoch 28/300\n",
            "1875/1875 [==============================] - 9s 5ms/step - loss: 0.1434 - accuracy: 0.9453 - val_loss: 0.4313 - val_accuracy: 0.8950\n",
            "Epoch 29/300\n",
            "1875/1875 [==============================] - 9s 5ms/step - loss: 0.1475 - accuracy: 0.9448 - val_loss: 0.3888 - val_accuracy: 0.8997\n",
            "Epoch 30/300\n",
            "1875/1875 [==============================] - 9s 5ms/step - loss: 0.1405 - accuracy: 0.9460 - val_loss: 0.3326 - val_accuracy: 0.9053\n",
            "Epoch 31/300\n",
            "1875/1875 [==============================] - 9s 5ms/step - loss: 0.1374 - accuracy: 0.9483 - val_loss: 0.4197 - val_accuracy: 0.9010\n",
            "Epoch 32/300\n",
            "1875/1875 [==============================] - 9s 5ms/step - loss: 0.1379 - accuracy: 0.9480 - val_loss: 0.3612 - val_accuracy: 0.9077\n",
            "Epoch 33/300\n",
            "1875/1875 [==============================] - 9s 5ms/step - loss: 0.1365 - accuracy: 0.9491 - val_loss: 0.4105 - val_accuracy: 0.9013\n"
          ],
          "name": "stdout"
        },
        {
          "output_type": "execute_result",
          "data": {
            "text/plain": [
              "<tensorflow.python.keras.callbacks.History at 0x7ff53c24dcf8>"
            ]
          },
          "metadata": {
            "tags": []
          },
          "execution_count": 66
        }
      ]
    },
    {
      "cell_type": "code",
      "metadata": {
        "id": "xcb2d31winVC",
        "colab_type": "code",
        "outputId": "2b87568c-20fa-4c42-bef7-0aee9489f647",
        "colab": {
          "base_uri": "https://localhost:8080/",
          "height": 35
        }
      },
      "source": [
        "hist = model.history.history\n",
        "hist.keys()"
      ],
      "execution_count": 67,
      "outputs": [
        {
          "output_type": "execute_result",
          "data": {
            "text/plain": [
              "dict_keys(['loss', 'accuracy', 'val_loss', 'val_accuracy'])"
            ]
          },
          "metadata": {
            "tags": []
          },
          "execution_count": 67
        }
      ]
    },
    {
      "cell_type": "code",
      "metadata": {
        "id": "JBpPoKHJk64d",
        "colab_type": "code",
        "outputId": "cbbc390b-cd7e-43d0-dc05-bf7cdb32f9b2",
        "colab": {
          "base_uri": "https://localhost:8080/",
          "height": 324
        }
      },
      "source": [
        "pd.DataFrame(hist).plot(figsize=(8, 5))\n",
        "plt.grid(True)\n",
        "plt.gca().set_ylim(0, 1) # set the vertical range to [0-1]\n",
        "plt.show()"
      ],
      "execution_count": 68,
      "outputs": [
        {
          "output_type": "display_data",
          "data": {
            "image/png": "[encoded data removed]",
            "text/plain": [
              "<Figure size 576x360 with 1 Axes>"
            ]
          },
          "metadata": {
            "tags": [],
            "needs_background": "light"
          }
        }
      ]
    },
    {
      "cell_type": "code",
      "metadata": {
        "id": "ZzIpSQzGuK1c",
        "colab_type": "code",
        "colab": {}
      },
      "source": [
        "#ejecutar este comando para importar el modelo entrenado\n",
        "#from tensorflow.keras.models import load_model\n",
        "#model = load_model(\"/content/drive/My Drive/Colab Notebooks/DL_HW2_v6.h5\")"
      ],
      "execution_count": 0,
      "outputs": []
    },
    {
      "cell_type": "code",
      "metadata": {
        "id": "ceYwM8hRk9Q6",
        "colab_type": "code",
        "outputId": "611fd1e6-070a-4218-ebc2-b76f8cb976b6",
        "colab": {
          "base_uri": "https://localhost:8080/",
          "height": 72
        }
      },
      "source": [
        "test_loss, test_accuracy = model.evaluate(X_test, y_test)\n",
        "print(\"TEST_LOSS: \", test_loss)\n",
        "print(\"TEST_ACCURACY: \", test_accuracy)"
      ],
      "execution_count": 70,
      "outputs": [
        {
          "output_type": "stream",
          "text": [
            "219/219 [==============================] - 0s 2ms/step - loss: 0.5330 - accuracy: 0.8887\n",
            "TEST_LOSS:  0.5330435633659363\n",
            "TEST_ACCURACY:  0.8887143135070801\n"
          ],
          "name": "stdout"
        }
      ]
    },
    {
      "cell_type": "code",
      "metadata": {
        "id": "94IA8zKEvUCO",
        "colab_type": "code",
        "colab": {}
      },
      "source": [
        "y_pred=model.predict(X_test)\n",
        "y_pred = np.argmax(y_pred, axis=1)"
      ],
      "execution_count": 0,
      "outputs": []
    },
    {
      "cell_type": "code",
      "metadata": {
        "id": "oF0I5kSXldaM",
        "colab_type": "code",
        "outputId": "b6e9a48c-b45e-4cde-af7b-988b6473c3ef",
        "colab": {
          "base_uri": "https://localhost:8080/",
          "height": 773
        }
      },
      "source": [
        "plt.figure(figsize = (10,10))\n",
        "plot_confusion_matrix(y_test, y_pred, classes=class_names, normalize=True,title='Normalized Confusion matrix')\n",
        "plt.axis('on')"
      ],
      "execution_count": 78,
      "outputs": [
        {
          "output_type": "stream",
          "text": [
            "Normalized confusion matrix\n"
          ],
          "name": "stdout"
        },
        {
          "output_type": "execute_result",
          "data": {
            "text/plain": [
              "(-0.5, 9.5, 9.5, -0.5)"
            ]
          },
          "metadata": {
            "tags": []
          },
          "execution_count": 78
        },
        {
          "output_type": "display_data",
          "data": {
            "text/plain": [
              "<Figure size 720x720 with 0 Axes>"
            ]
          },
          "metadata": {
            "tags": []
          }
        },
        {
          "output_type": "display_data",
          "data": {
            "image/png": "[encoded data removed]",
            "text/plain": [
              "<Figure size 720x720 with 2 Axes>"
            ]
          },
          "metadata": {
            "tags": [],
            "needs_background": "light"
          }
        }
      ]
    },
    {
      "cell_type": "code",
      "metadata": {
        "id": "CpVAo0WlWEzB",
        "colab_type": "code",
        "colab": {
          "base_uri": "https://localhost:8080/",
          "height": 201
        },
        "outputId": "3f1b5d16-5e48-466c-ac90-0b3ffa7909df"
      },
      "source": [
        "confusion_matrix(y_test, y_pred)"
      ],
      "execution_count": 73,
      "outputs": [
        {
          "output_type": "execute_result",
          "data": {
            "text/plain": [
              "array([[537,   1,   8,  20,   2,   1, 115,   0,   4,   0],\n",
              "       [  0, 672,   0,   6,   2,   0,   1,   0,   0,   0],\n",
              "       [ 10,   0, 563,  11,  65,   0,  78,   0,   0,   0],\n",
              "       [ 12,   6,   3, 663,   8,   0,  15,   0,   2,   0],\n",
              "       [  0,   0,  41,  36, 554,   0,  80,   0,   1,   0],\n",
              "       [  0,   0,   0,   1,   0, 684,   0,  17,   0,   2],\n",
              "       [ 51,   0,  33,  24,  39,   0, 543,   0,   2,   0],\n",
              "       [  0,   0,   0,   0,   0,   7,   0, 671,   0,  15],\n",
              "       [  3,   1,   5,   4,   4,   1,   3,   2, 685,   1],\n",
              "       [  1,   0,   0,   0,   0,   9,   0,  26,   0, 649]])"
            ]
          },
          "metadata": {
            "tags": []
          },
          "execution_count": 73
        }
      ]
    },
    {
      "cell_type": "code",
      "metadata": {
        "id": "VLbNBSQFliN-",
        "colab_type": "code",
        "outputId": "1778e1e3-1739-4411-bc40-b0c2d5194b1f",
        "colab": {
          "base_uri": "https://localhost:8080/",
          "height": 403
        }
      },
      "source": [
        "print(\"Classification Report\\n\",classification_report(y_test, y_pred))\n",
        "print(\"\\n\")\n",
        "print(\"Accuracy : \",accuracy_score(y_test, y_pred)*100)"
      ],
      "execution_count": 74,
      "outputs": [
        {
          "output_type": "stream",
          "text": [
            "Classification Report\n",
            "               precision    recall  f1-score   support\n",
            "\n",
            "           0       0.87      0.78      0.82       688\n",
            "           1       0.99      0.99      0.99       681\n",
            "           2       0.86      0.77      0.82       727\n",
            "           3       0.87      0.94      0.90       709\n",
            "           4       0.82      0.78      0.80       712\n",
            "           5       0.97      0.97      0.97       704\n",
            "           6       0.65      0.78      0.71       692\n",
            "           7       0.94      0.97      0.95       693\n",
            "           8       0.99      0.97      0.98       709\n",
            "           9       0.97      0.95      0.96       685\n",
            "\n",
            "    accuracy                           0.89      7000\n",
            "   macro avg       0.89      0.89      0.89      7000\n",
            "weighted avg       0.89      0.89      0.89      7000\n",
            "\n",
            "\n",
            "\n",
            "Accuracy :  88.87142857142857\n"
          ],
          "name": "stdout"
        }
      ]
    },
    {
      "cell_type": "code",
      "metadata": {
        "id": "7KQYxfw3vzhb",
        "colab_type": "code",
        "colab": {}
      },
      "source": [
        "model.save(\"/content/drive/My Drive/Colab Notebooks/DL_HW2_v6.h5\")"
      ],
      "execution_count": 0,
      "outputs": []
    },
    {
      "cell_type": "code",
      "metadata": {
        "id": "TQIMFSNvlx0g",
        "colab_type": "code",
        "colab": {}
      },
      "source": [
        ""
      ],
      "execution_count": 0,
      "outputs": []
    }
  ]
}